{
 "cells": [
  {
   "cell_type": "code",
   "execution_count": null,
   "metadata": {},
   "outputs": [],
   "source": [
    "# default_exp apresentacao"
   ]
  },
  {
   "cell_type": "markdown",
   "metadata": {},
   "source": [
    "# Literate Programming \n",
    "\n",
    "> Uma maneira diferente de encarar a programação."
   ]
  },
  {
   "cell_type": "markdown",
   "metadata": {},
   "source": [
    "## Definição e enquadramento\n",
    "\n",
    "Donald Knuth (o inventor do TeX), em 1983, escreveu um texto em que descrevia um novo paradigma da programação, algo a que ele chamou \"Literate Programming\". A ideia é que o ambiente ideal de programação é aquele em que o código e a documentação em texto escrito surgem intercaladamente, para serem lidos tanto por compiladores como por pessoas. De acordo com o autor, esta é a maneira ideal para evitar bugs e para assegurar a manutenção do código por vários programadores. Reparem que n estamos a falar de uma pessoa qualquer. Além de ser uma lenda no mundo da engenharia de software, ao lado de pessoas como Linus Torvalds ou Leslie Lamport, oferece dinheiro do próprio bolso a quem lhe reportar um bug nos seus trabalhos.."
   ]
  },
  {
   "cell_type": "markdown",
   "metadata": {},
   "source": [
    "## Porquê  mais uma maneira de fazer aquilo que eu já faço há tanto tempo?\n",
    "\n",
    "Há infinitas razões para adoptar e outras infinitas razões para não adoptar qualquer metodologia que algum dia tenha sido pensada por um ser humano. Não há uma forma de trabalhar que seja \"a melhor\". Nem para todos, nem sequer para uma só pessoa. Varia conforme o projecto, a tecnologia usada, o ambiente, etc.. No entanto, aqui estão duas citações que me fazem sentido, pessoalmente, porque dizem respeito a situações nas quais eu muitas vezes me vejo.\n",
    "\n",
    "> What do you do with undocumented legacy code? I have A LOT of this to deal with right now. There are whole libraries used across multiple webapps and services that are completely undocumented. No javadocs, no comments in the source code, no flow diagrams, no written explanations, nothing. Some of these libraries don't even have source code attached to them, and of course there are no information about them whatsoever on the internet, so they must have been developed internally, or even worse, borrowed from mysterious sources. Needless to say that the original devs are long disappeared, even before I joined the team. -- in Hacker news\n",
    "\n",
    "> Literate programming ... because yourself from the past does not answer emails.  -- Tim Daly\n",
    "\n",
    "O método em si é mais que simplesmente documentar o código. É documentar o pensamento, tornando mais fácil ao programador encontrar erros antes mesmo que estes se transformem em código. Há quem diga que pensar sem escrever é pensar que pensamos. Não sei se concordo inteiramente, mas que facilita, facilita."
   ]
  },
  {
   "cell_type": "markdown",
   "metadata": {},
   "source": [
    "## Vantagens para o programador\n",
    "\n",
    "Para o que me importa dizer neste exemplo, há dois tipos de programador: o engenheiro de software, e o programador experimental. Nós estamos nesta última categoria.\n",
    "\n",
    "Para o engenheiro de software, as vantagens principais são:\n",
    "- Diminuição do número de bugs;\n",
    "- Aumento na capacidade de manter o software, mesmo (especialmente) quando muda o programador;\n",
    "- A documentação está incluída no código. Não há necessidade de a fazer em separado.\n",
    "\n",
    "Para o programador experimental, além destas vantagens há pelo menos mais 3:\n",
    "- Pensamento estruturado directamente no código;\n",
    "- Os becos sem saída ficam explicados (não precisamos de nos esquecer porque é que determinada abordagem não funciona);\n",
    "- Possibilidade de experimentação livre, sem compromisso da performance do código."
   ]
  },
  {
   "cell_type": "markdown",
   "metadata": {},
   "source": [
    "# NBDEV"
   ]
  },
  {
   "cell_type": "markdown",
   "metadata": {},
   "source": [
    "## O que é e quem é que o fez?\n",
    "\n",
    "O [nbdev](htpps://nbdev.fast.ai) é uma ferramenta de literate programming desenvolvida pela equipa do [fast.ai](https://fast.ai), nomeadamente pelo Jeremy Howard e pelo Sylvain Guigan, que trabalham na Universidade de São Francisco, nos EUA."
   ]
  },
  {
   "cell_type": "markdown",
   "metadata": {},
   "source": [
    "## Requisitos / Melhorias do workflow\n",
    "\n",
    "A plataforma em si foi desenhada para ser usada com a linguagem Python sobre os Jupyter Notebooks, sem necessitar de mais nenhuma biblioteca. No entanto, podemos tornar o trabalho mais eficiente, juntando as seguintes bibliotecas **no próprio Jupyter**, via [nb-extensions](https://jupyter-contrib-nbextensions.readthedocs.io/en/latest/install.html#enabling-disabling-extensions):\n",
    "- TOC2;\n",
    "- Collapsible Headers;\n",
    "- Ruler;\n",
    "- iSort;\n",
    "- Autopep8.\n",
    "\n",
    "Para começar a usar o sistema, pode correr-se a seguinte célula (comentada para não haver azar :D)"
   ]
  },
  {
   "cell_type": "code",
   "execution_count": null,
   "metadata": {},
   "outputs": [],
   "source": [
    "# hide\n",
    "#!pip install autopep8 isort\n",
    "#!conda install -c conda-forge jupyter_contrib_nbextensions\n",
    "#!pip install nbdev"
   ]
  },
  {
   "cell_type": "markdown",
   "metadata": {},
   "source": [
    "## Setup inicial\n",
    "\n",
    "1. Começar a trabalhar com o nbdev é tão simples como [clicar neste link](https://github.com/fastai/nbdev_template/generate);\n",
    "2. Depois de gerarmos o template-esqueleto do nosso código, temos de o clonar para a nossa máquina, como qualquer outro repositório;\n",
    "3. Editamos o ficheiro `settings.ini`. Este é um ficheiro importante, porque vai controlar o processo de geração de uma versão distribuível (auto-edita o ficheiro setup.py), por exemplo para submissão no pypy;\n",
    "4. Corremos o comando `nbdev_install_hooks`, que torna mais fácil o trabalho do git ao fazer diffs e merges em notebooks, algo que pode ser problemático se se usarem notebooks directamente.\n",
    "5. Setup da documentação: o código é automaticamente comentado pelo texto, mas há sempre coisas que podemos incluir, como um readme ou um exemplo;\n",
    "6. Não há 6, podemos começar a fazer código!"
   ]
  },
  {
   "cell_type": "code",
   "execution_count": null,
   "metadata": {},
   "outputs": [],
   "source": [
    "#hide\n",
    "from nbdev.showdoc import *"
   ]
  }
 ],
 "metadata": {
  "kernelspec": {
   "display_name": "Python 3",
   "language": "python",
   "name": "python3"
  }
 },
 "nbformat": 4,
 "nbformat_minor": 2
}
